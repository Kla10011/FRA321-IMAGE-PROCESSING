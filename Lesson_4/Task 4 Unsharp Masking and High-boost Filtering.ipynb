{
 "cells": [
  {
   "cell_type": "code",
   "execution_count": 77,
   "metadata": {},
   "outputs": [],
   "source": [
    "import cv2\n",
    "import numpy as np\n",
    "from matplotlib import pyplot as plt\n",
    "img = cv2.imread('Pokemon-Go.jpg',1)\n",
    "\n",
    "def unsharp(image,k):\n",
    "    if k < 1 :\n",
    "        k = 1\n",
    "    gaussian = cv2.GaussianBlur(image,(5,5),0)\n",
    "    blur = cv2.medianBlur(image,5)\n",
    "    Gmask = image - gaussian\n",
    "    img = image + (k*Gmask)\n",
    "    cv2.imshow('Gmask',Gmask)\n",
    "    return img\n",
    "img2 = unsharp(img,1)\n",
    "img3 = unsharp(img,3)\n",
    "cv2.imshow('Original',img)\n",
    "cv2.imshow('Unsharp Masking',img2)\n",
    "cv2.imshow('High -boost',img3)\n",
    "cv2.waitKey(0)\n",
    "cv2.destroyAllWindows()\n",
    "\n",
    "\n",
    "\n",
    "\n",
    "\n",
    "# cv2.imshow('bilateral',bilateral)"
   ]
  }
 ],
 "metadata": {
  "kernelspec": {
   "display_name": "Python 3.9.12 ('base')",
   "language": "python",
   "name": "python3"
  },
  "language_info": {
   "codemirror_mode": {
    "name": "ipython",
    "version": 3
   },
   "file_extension": ".py",
   "mimetype": "text/x-python",
   "name": "python",
   "nbconvert_exporter": "python",
   "pygments_lexer": "ipython3",
   "version": "3.9.12"
  },
  "orig_nbformat": 4,
  "vscode": {
   "interpreter": {
    "hash": "929163599431c7b3e753eb9c75a6800fa8c5c72fb3910ee126ea89c879162a29"
   }
  }
 },
 "nbformat": 4,
 "nbformat_minor": 2
}
