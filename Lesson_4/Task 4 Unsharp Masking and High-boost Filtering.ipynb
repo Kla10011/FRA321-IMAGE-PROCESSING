{
 "cells": [
  {
   "cell_type": "code",
   "execution_count": 26,
   "metadata": {},
   "outputs": [],
   "source": [
    "import cv2\n",
    "import numpy as np\n",
    "from matplotlib import pyplot as plt\n",
    "img = cv2.imread('Pokemon-Go.jpg',1)\n",
    "img2 = cv2.cvtColor(img,cv2.COLOR_BGR2RGB)\n",
    "\n",
    "kernal = np.ones((5,5),np.float32)/25\n",
    "dst = cv2.filter2D(img,-1,kernal)\n",
    "cv2.imshow('dst',dst)\n",
    "\n",
    "blur = cv2.blur(img,(5,5))\n",
    "cv2.imshow('blur',blur)\n",
    "\n",
    "gaussian = cv2.GaussianBlur(img,(5,5),0)\n",
    "cv2.imshow('gaussian',gaussian)\n",
    "\n",
    "median = cv2.medianBlur(img,5)\n",
    "cv2.imshow('median',median)\n",
    "\n",
    "bilateral = cv2.medianBlur(img,5)\n",
    "cv2.imshow('bilateral',bilateral)\n",
    "\n",
    "cv2.imshow('image',img)\n",
    "cv2.imshow('image2',img2)\n",
    "cv2.waitKey(0)\n",
    "cv2.destroyAllWindows()"
   ]
  }
 ],
 "metadata": {
  "kernelspec": {
   "display_name": "Python 3.9.12 ('base')",
   "language": "python",
   "name": "python3"
  },
  "language_info": {
   "codemirror_mode": {
    "name": "ipython",
    "version": 3
   },
   "file_extension": ".py",
   "mimetype": "text/x-python",
   "name": "python",
   "nbconvert_exporter": "python",
   "pygments_lexer": "ipython3",
   "version": "3.9.12"
  },
  "orig_nbformat": 4,
  "vscode": {
   "interpreter": {
    "hash": "929163599431c7b3e753eb9c75a6800fa8c5c72fb3910ee126ea89c879162a29"
   }
  }
 },
 "nbformat": 4,
 "nbformat_minor": 2
}
